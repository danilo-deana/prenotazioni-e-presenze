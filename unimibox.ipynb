{
 "cells": [
  {
   "cell_type": "markdown",
   "id": "3c1e6837",
   "metadata": {},
   "source": [
    "# Biblioteche"
   ]
  },
  {
   "cell_type": "code",
   "execution_count": 1,
   "id": "00caa09e",
   "metadata": {},
   "outputs": [],
   "source": [
    "import pandas as pd\n",
    "\n",
    "dfLBR = pd.read_csv(\"csv\" + \"/\" + \"biblioteche.csv\", sep = \"\\t\")\n",
    "\n",
    "dfLBR.sort_values(by = [\"sigla\"], inplace = True)"
   ]
  },
  {
   "cell_type": "markdown",
   "id": "d5ce86aa",
   "metadata": {},
   "source": [
    "# UNIMIBOX"
   ]
  },
  {
   "cell_type": "code",
   "execution_count": 2,
   "id": "00b5d341",
   "metadata": {},
   "outputs": [
    {
     "name": "stdout",
     "output_type": "stream",
     "text": [
      "Agraria Arte BICF BSGU Biomedica Filosofia Lingue Malliani Matematica Mediazione Medicina SAFM San Paolo Scienze della Terra Scienze politiche Storia Veterinaria "
     ]
    }
   ],
   "source": [
    "import requests\n",
    "from requests.auth import HTTPBasicAuth\n",
    "\n",
    "for index, row in dfLBR.iterrows():\n",
    "    print(row[\"sigla\"], end = \" \")\n",
    "    r = requests.request(\n",
    "        method=\"get\",\n",
    "        url=\"https://unimibox.unimi.it/remote.php/dav/files/Danilo_Deana/Shared/Fase%203/\" + row[\"sigla\"] + \"2021.xlsx\",\n",
    "        auth=(\"danilo.deana\", \"2NHs4-WQFKz-cXcQ6-ZkSGT-KQ7Ny\")\n",
    "    )\n",
    "\n",
    "    with open(r\"tmp/\" + row[\"sigla\"] + \"2021.xlsx\", \"wb\") as f:\n",
    "        f.write(r.content)"
   ]
  },
  {
   "cell_type": "code",
   "execution_count": null,
   "id": "d48a42ec",
   "metadata": {},
   "outputs": [],
   "source": []
  }
 ],
 "metadata": {
  "kernelspec": {
   "display_name": "Python 3",
   "language": "python",
   "name": "python3"
  },
  "language_info": {
   "codemirror_mode": {
    "name": "ipython",
    "version": 3
   },
   "file_extension": ".py",
   "mimetype": "text/x-python",
   "name": "python",
   "nbconvert_exporter": "python",
   "pygments_lexer": "ipython3",
   "version": "3.8.8"
  }
 },
 "nbformat": 4,
 "nbformat_minor": 5
}
