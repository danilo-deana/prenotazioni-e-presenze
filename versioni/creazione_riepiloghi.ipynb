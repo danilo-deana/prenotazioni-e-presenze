{
 "cells": [
  {
   "cell_type": "code",
   "execution_count": null,
   "id": "5ec58261",
   "metadata": {},
   "outputs": [],
   "source": [
    "import pandas as pd\n",
    "\n",
    "dfLBR = pd.read_csv('csv' + \"/\" + \"biblioteche.csv\", sep = \"\\t\")"
   ]
  },
  {
   "cell_type": "code",
   "execution_count": null,
   "id": "e5c28e16",
   "metadata": {},
   "outputs": [],
   "source": [
    "import datetime\n",
    "\n",
    "year = datetime.datetime.now().year"
   ]
  },
  {
   "cell_type": "code",
   "execution_count": null,
   "id": "a316e754",
   "metadata": {},
   "outputs": [],
   "source": [
    "from shutil import copyfile\n",
    "\n",
    "for index, row in dfLBR.iterrows():\n",
    "    copyfile(\"riepiloghi\" + \"/\" + \"sample.xlsx\",\n",
    "        \"riepiloghi\" + \"/\" + row[\"sigla\"] + str(year) + \".xlsx\")"
   ]
  }
 ],
 "metadata": {
  "kernelspec": {
   "display_name": "Python 3",
   "language": "python",
   "name": "python3"
  },
  "language_info": {
   "codemirror_mode": {
    "name": "ipython",
    "version": 3
   },
   "file_extension": ".py",
   "mimetype": "text/x-python",
   "name": "python",
   "nbconvert_exporter": "python",
   "pygments_lexer": "ipython3",
   "version": "3.8.8"
  }
 },
 "nbformat": 4,
 "nbformat_minor": 5
}
