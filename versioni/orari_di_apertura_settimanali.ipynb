{
 "cells": [
  {
   "cell_type": "markdown",
   "id": "3c1e6837",
   "metadata": {},
   "source": [
    "# Biblioteche"
   ]
  },
  {
   "cell_type": "code",
   "execution_count": 1,
   "id": "00caa09e",
   "metadata": {},
   "outputs": [],
   "source": [
    "import pandas as pd\n",
    "\n",
    "dfLBR = pd.read_csv(\"csv\" + \"/\" + \"biblioteche.csv\", sep = \"\\t\")\n",
    "\n",
    "dfLBR.sort_values(by = [\"sigla\"], inplace = True)"
   ]
  },
  {
   "cell_type": "markdown",
   "id": "95c0a8cb",
   "metadata": {},
   "source": [
    "# Orari di apertura"
   ]
  },
  {
   "cell_type": "code",
   "execution_count": 3,
   "id": "2b853d8d",
   "metadata": {},
   "outputs": [
    {
     "name": "stdout",
     "output_type": "stream",
     "text": [
      "BSGU Agraria Arte BICF Biomedica Filosofia Lingue Malliani Matematica Mediazione Medicina SAFM San Paolo Scienze della Terra Scienze politiche Storia Veterinaria "
     ]
    }
   ],
   "source": [
    "import datetime\n",
    "import pandas as pd\n",
    "\n",
    "def settimana(giorno):\n",
    "    if pd.isna(giorno) or type(giorno) == str:\n",
    "        return 0\n",
    "    return giorno.isocalendar()[1]\n",
    "\n",
    "def inizio(orario):\n",
    "    posizione = orario.find('-')\n",
    "    if posizione != -1:\n",
    "        inizio = orario[0: posizione]\n",
    "        inizio = inizio.replace(':', '.')\n",
    "        inizio = inizio.replace('.15', '.25')\n",
    "        inizio = inizio.replace('.30', '.50')\n",
    "        inizio = inizio.replace('.45', '.75')\n",
    "        return float(inizio)\n",
    "    return 0\n",
    "    \n",
    "def fine(orario):\n",
    "    posizione = orario.rfind('-')\n",
    "    if posizione != -1:\n",
    "        fine = orario[posizione + 1:]\n",
    "        fine = fine.replace(':', '.')\n",
    "        fine = fine.replace('.15', '.25')\n",
    "        fine = fine.replace('.30', '.50')\n",
    "        fine = fine.replace('.45', '.75')\n",
    "        return float(fine)\n",
    "    return 0 \n",
    "\n",
    "print(\"BSGU\", end =\" \")\n",
    "\n",
    "dfBSGU = pd.read_excel(\"tmp\" + \"/\" + \"BSGU2021.xlsx\")\n",
    "\n",
    "dfBSGU[\"Biblioteca\"] = \"BSGU\"\n",
    "\n",
    "df = dfBSGU\n",
    "\n",
    "for index, row in dfLBR.iterrows():\n",
    "    if row[\"sigla\"] != \"BSGU\":\n",
    "        print(row[\"sigla\"], end = \" \")\n",
    "        dfTMP00 = pd.read_excel(\"tmp\" + \"/\" + row[\"sigla\"] + \"2021.xlsx\")\n",
    "        dfTMP00[\"Biblioteca\"] = row[\"sigla\"]\n",
    "        df = df.append(dfTMP00, ignore_index = True)\n",
    "\n",
    "df[\"Settimana\"] = df.apply(lambda x: settimana(x[\"Giorno\"]), axis = 1)\n",
    "\n",
    "s = df.groupby([\"Biblioteca\", \"Settimana\"])['Orario'].max()\n",
    "\n",
    "dfTMP = s.to_frame(name = \"Orario\")\n",
    "\n",
    "dfTMP.reset_index(inplace = True)\n",
    "\n",
    "dfTMP['inizio'] = dfTMP.apply(lambda x: inizio(x['Orario']), axis = 1)\n",
    "\n",
    "dfTMP['fine'] = dfTMP.apply(lambda x: fine(x['Orario']), axis = 1)\n",
    "\n",
    "dfTMP.to_csv(\"csv\" + \"/\" + \"orari_di_apertura.csv\", sep = \"\\t\", index = False)"
   ]
  },
  {
   "cell_type": "code",
   "execution_count": null,
   "id": "c8971db9",
   "metadata": {},
   "outputs": [],
   "source": []
  }
 ],
 "metadata": {
  "kernelspec": {
   "display_name": "Python 3",
   "language": "python",
   "name": "python3"
  },
  "language_info": {
   "codemirror_mode": {
    "name": "ipython",
    "version": 3
   },
   "file_extension": ".py",
   "mimetype": "text/x-python",
   "name": "python",
   "nbconvert_exporter": "python",
   "pygments_lexer": "ipython3",
   "version": "3.8.8"
  }
 },
 "nbformat": 4,
 "nbformat_minor": 5
}
