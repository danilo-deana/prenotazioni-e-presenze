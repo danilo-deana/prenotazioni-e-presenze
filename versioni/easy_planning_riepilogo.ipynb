{
 "cells": [
  {
   "cell_type": "markdown",
   "id": "2616c255",
   "metadata": {},
   "source": [
    "# Easy Planning"
   ]
  },
  {
   "cell_type": "code",
   "execution_count": 1,
   "id": "eaf5345f",
   "metadata": {},
   "outputs": [],
   "source": [
    "import pandas as pd\n",
    "\n",
    "df = pd.read_csv(\"csv\" + \"/\" + \"easy_planning.csv\", sep = \"\\t\")"
   ]
  },
  {
   "cell_type": "markdown",
   "id": "55ba278f",
   "metadata": {},
   "source": [
    "# Riepilogo"
   ]
  },
  {
   "cell_type": "code",
   "execution_count": 2,
   "id": "b717f65a",
   "metadata": {},
   "outputs": [],
   "source": [
    "def durata(inizio, fine):\n",
    "    inizio = inizio.replace(\":\", \".\")\n",
    "    inizio = inizio.replace(\".15\", \".25\")\n",
    "    inizio = inizio.replace(\".30\", \".50\")\n",
    "    inizio = inizio.replace(\".45\", \".70\")\n",
    "    fine = fine.replace(\":\", \".\")\n",
    "    fine = fine.replace(\".15\", \".25\")\n",
    "    fine = fine.replace(\".30\", \".50\")\n",
    "    fine = fine.replace(\".45\", \".70\")\n",
    "    return float(fine) - float(inizio)\n",
    "\n",
    "def media_presenze(df, biblioteca, anno, settimana):\n",
    "    dfTMP = df[(df[\"biblioteca\"] == biblioteca) & (df[\"anno\"] == anno) & (df[\"settimana\"] == settimana) &\n",
    "        (df[\"Stato gestione\"] == \"evaso\")]\n",
    "    s = dfTMP.groupby([\"giorno\", \"intervallo\"]).size()\n",
    "    if len(s) == 0:\n",
    "        return 0\n",
    "    return s.mean()\n",
    "\n",
    "def picco_presenze(df, biblioteca, anno, settimana):\n",
    "    dfTMP = df[(df[\"biblioteca\"] == biblioteca) & (df[\"anno\"] == anno) & (df[\"settimana\"] == settimana) &\n",
    "        (df[\"Stato gestione\"] == \"evaso\")]\n",
    "    s = dfTMP.groupby([\"giorno\", \"intervallo\"]).size()\n",
    "    if len(s) == 0:\n",
    "        return 0\n",
    "    return s.max()\n",
    "\n",
    "def elenco_presenze(df):\n",
    "    elenco_presenze = \"\"\n",
    "    s = df[(df[\"Stato gestione\"] == \"evaso\")].groupby([\"giorno\", \"intervallo\"]).size()\n",
    "    dfTMP = s.to_frame(name = \"presenze\")\n",
    "    dfTMP.reset_index(inplace = True)\n",
    "    dfTMP.sort_values(by = [\"giorno\", \"intervallo\"], inplace = True)\n",
    "    for index, row in dfTMP.iterrows():\n",
    "        elenco_presenze = elenco_presenze + row[\"giorno\"] + \", \" + row[\"intervallo\"] + \": \" + str(row[\"presenze\"]) + \" * \"\n",
    "    return elenco_presenze\n",
    "\n",
    "with open('csv' + \"/\" + \"easy_planning_riepilogo.csv\", \"w\") as file_handler:\n",
    "\n",
    "    file_handler.write(\"Biblioteca\" + \"\\t\") \n",
    "    file_handler.write(\"Settimana\" + \"\\t\")\n",
    "    file_handler.write(\"Inizio\" + \"\\t\")\n",
    "    file_handler.write(\"Fine\" + \"\\t\")\n",
    "    file_handler.write(\"Giorni di apertura\" + \"\\t\")\n",
    "    file_handler.write(\"Posti a sedere\" + \"\\t\")\n",
    "    file_handler.write(\"Apertura\" + \"\\t\")\n",
    "    file_handler.write(\"Chiusura\" + \"\\t\")\n",
    "    file_handler.write(\"Ore di apertura\" + \"\\t\")\n",
    "    file_handler.write(\"Intervalli\" + \"\\t\")\n",
    "    file_handler.write(\"Slot disponibili\" + \"\\t\")\n",
    "    file_handler.write(\"Slot occupati\" + \"\\t\")\n",
    "    file_handler.write(\"Ore disponibili\" + \"\\t\")\n",
    "    file_handler.write(\"Ore occupate\" + \"\\t\")\n",
    "    file_handler.write(\"Presenze\" + \"\\t\")\n",
    "    file_handler.write(\"Elenco presenze\" + \"\\t\")\n",
    "    file_handler.write(\"Media\" + \"\\t\")\n",
    "    file_handler.write(\"Picco\")\n",
    "    file_handler.write(\"\\n\")\n",
    "    \n",
    "    for anno in df[\"anno\"].unique():\n",
    "        for settimana in df[\"settimana\"].unique():\n",
    "            for biblioteca in df[\"biblioteca\"].unique():\n",
    "                dfTMP = df[(df[\"biblioteca\"] == biblioteca) & (df[\"anno\"] == anno) & (df[\"settimana\"] == settimana)]\n",
    "                if dfTMP.shape[0] != 0:\n",
    "                    file_handler.write(biblioteca + \"\\t\") \n",
    "                    file_handler.write(str(settimana) + \"\\t\")\n",
    "                    file_handler.write(str(dfTMP[\"giorno\"].min()) + \"\\t\")\n",
    "                    file_handler.write(str(dfTMP[\"giorno\"].max()) + \"\\t\")\n",
    "                    giorni_di_apertura = dfTMP.groupby([\"giorno\"]).size().shape[0]\n",
    "                    file_handler.write(str(giorni_di_apertura) + \"\\t\")\n",
    "                    posti_a_sedere = dfTMP[\"posti_a_sedere\"].mean()\n",
    "                    file_handler.write(str(posti_a_sedere) + \"\\t\")\n",
    "                    apertura = dfTMP[\"intervallo\"].min()[0:5]\n",
    "                    file_handler.write(apertura + \"\\t\")\n",
    "                    chiusura = dfTMP[\"intervallo\"].max()[6:]                \n",
    "                    file_handler.write(chiusura + \"\\t\")\n",
    "                    file_handler.write(str(durata(apertura, chiusura)) + \"\\t\")\n",
    "                    intervalli = dfTMP.groupby([\"intervallo\"]).size().shape[0]\n",
    "                    file_handler.write(str(intervalli) + \"\\t\")\n",
    "                    file_handler.write(str(giorni_di_apertura * posti_a_sedere * intervalli) + \"\\t\")\n",
    "                    posti_occupati = dfTMP[(dfTMP[\"Stato gestione\"] == \"evaso\")].groupby([\"settimana\"]).size()\n",
    "                    file_handler.write(str(posti_occupati.sum()) + \"\\t\")\n",
    "                    dfTMP[(dfTMP[\"Stato gestione\"] == \"evaso\")][\"ore\"].sum()\n",
    "                    file_handler.write(str(giorni_di_apertura * posti_a_sedere * durata(apertura, chiusura)) + \"\\t\")\n",
    "                    # file_handler.write(str(ore_intervalli(dfTMP)) + \"\\t\") \n",
    "                    file_handler.write(str(dfTMP[(dfTMP[\"Stato gestione\"] == \"evaso\")][\"ore\"].sum()) + \"\\t\")\n",
    "                    presenze = dfTMP[(dfTMP[\"Stato gestione\"] == \"evaso\")].groupby([\"Utente\", \"giorno\", \"intervallo\"]).size().shape[0]\n",
    "                    file_handler.write(str(presenze) + \"\\t\")\n",
    "                    file_handler.write(elenco_presenze(dfTMP) + \"\\t\")\n",
    "                    file_handler.write(str(media_presenze(df, biblioteca, anno, settimana)) + \"\\t\")\n",
    "                    file_handler.write(str(picco_presenze(df, biblioteca, anno, settimana)))\n",
    "                    file_handler.write(\"\\n\")"
   ]
  },
  {
   "cell_type": "code",
   "execution_count": 3,
   "id": "79e7f425",
   "metadata": {},
   "outputs": [],
   "source": [
    "dfTMP = pd.read_csv(\"csv\" + \"/\" + \"easy_planning_riepilogo.csv\", sep = \"\\t\")\n",
    "\n",
    "dfTMP.to_excel(\"xlsx\" + \"/\" + \"easy_planning_riepilogo.xlsx\")"
   ]
  },
  {
   "cell_type": "code",
   "execution_count": null,
   "id": "3cc6f37f",
   "metadata": {},
   "outputs": [],
   "source": []
  }
 ],
 "metadata": {
  "kernelspec": {
   "display_name": "Python 3",
   "language": "python",
   "name": "python3"
  },
  "language_info": {
   "codemirror_mode": {
    "name": "ipython",
    "version": 3
   },
   "file_extension": ".py",
   "mimetype": "text/x-python",
   "name": "python",
   "nbconvert_exporter": "python",
   "pygments_lexer": "ipython3",
   "version": "3.8.8"
  }
 },
 "nbformat": 4,
 "nbformat_minor": 5
}
